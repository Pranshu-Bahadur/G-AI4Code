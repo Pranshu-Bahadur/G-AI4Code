{
  "nbformat": 4,
  "nbformat_minor": 0,
  "metadata": {
    "colab": {
      "provenance": [],
      "collapsed_sections": [
        "SOcZNcAzBJFK",
        "W2r5ECYzg_SN",
        "PP6VNvnODDYx",
        "vCq7N72Sa-Wl",
        "fh7pZtsMhs8s"
      ],
      "mount_file_id": "1b5zJDTRBNCHwb6ilxfKmNC_bq2Nk2RtI",
      "authorship_tag": "ABX9TyPFnYajIk4J8uZMUGDYt4Ni",
      "include_colab_link": true
    },
    "kernelspec": {
      "name": "python3",
      "display_name": "Python 3"
    },
    "language_info": {
      "name": "python"
    }
  },
  "cells": [
    {
      "cell_type": "markdown",
      "metadata": {
        "id": "view-in-github",
        "colab_type": "text"
      },
      "source": [
        "<a href=\"https://colab.research.google.com/github/Pranshu-Bahadur/G-AI4Code/blob/main/Protein_Sequence_Family_Classification.ipynb\" target=\"_parent\"><img src=\"https://colab.research.google.com/assets/colab-badge.svg\" alt=\"Open In Colab\"/></a>"
      ]
    },
    {
      "cell_type": "markdown",
      "source": [
        "# [Structural Protein Sequences](https://www.kaggle.com/datasets/shahir/protein-data-set)\n",
        "---\n",
        "\n",
        "In this work we perform a study on using Natural Language Processing (NLP) from protein sequence family classification.\n",
        "\n",
        "Our dataset contains > 400,000 protein structure sequences."
      ],
      "metadata": {
        "id": "n00esWCzDkjg"
      }
    },
    {
      "cell_type": "markdown",
      "source": [
        "# 0. Prelim Set-up\n",
        "\n",
        "In this section we will set-up additional dependencies utilized in our study\n",
        "\n",
        "Just run the following to get started:"
      ],
      "metadata": {
        "id": "SOcZNcAzBJFK"
      }
    },
    {
      "cell_type": "markdown",
      "source": [
        "First lets mount GDrive (make sure the dataset files are stored in your GDrive)."
      ],
      "metadata": {
        "id": "M3zXgex2I6xX"
      }
    },
    {
      "cell_type": "code",
      "source": [
        "from google.colab import drive\n",
        "drive.mount('/content/drive')"
      ],
      "metadata": {
        "colab": {
          "base_uri": "https://localhost:8080/"
        },
        "id": "U8Kvi-R8Bxia",
        "outputId": "33334887-4f1f-483d-bb65-835a97d96aee"
      },
      "execution_count": 694,
      "outputs": [
        {
          "output_type": "stream",
          "name": "stdout",
          "text": [
            "Drive already mounted at /content/drive; to attempt to forcibly remount, call drive.mount(\"/content/drive\", force_remount=True).\n"
          ]
        }
      ]
    },
    {
      "cell_type": "markdown",
      "source": [
        "# 1. Understanding our Dataset\n",
        "\n",
        "In this section we will analyze our dataset the following way:\n",
        "\n",
        "\n",
        "\n",
        "1.   Load the dataset into a DataFrame\n",
        "2.   Clean our raw dataset\n",
        "3.   Identify the target variable\n",
        "4.   Analyze the features in our dataset\n",
        "5.   Plot Distributions and perform features engineering\n"
      ],
      "metadata": {
        "id": "vswRDFV4BDuV"
      }
    },
    {
      "cell_type": "markdown",
      "source": [
        "## 1.0 Dataset curation\n",
        "\n",
        "\n",
        "In this section we clean and refine our dataset."
      ],
      "metadata": {
        "id": "W2r5ECYzg_SN"
      }
    },
    {
      "cell_type": "markdown",
      "source": [
        "### 1.0.1 Prelim Exploration of the Datasets\n",
        "\n"
      ],
      "metadata": {
        "id": "PP6VNvnODDYx"
      }
    },
    {
      "cell_type": "markdown",
      "source": [
        "Our dataset consists of two .csv files:\n",
        "\n",
        "* **pdb_data_no_dups.csv** contains protein meta data which includes details on protein classification, extraction methods, etc.\n",
        "\n",
        "\n",
        "* **data_seq.csv** contains >400,000 protein structure sequences."
      ],
      "metadata": {
        "id": "3oNW-MSeDWUF"
      }
    },
    {
      "cell_type": "code",
      "execution_count": 695,
      "metadata": {
        "id": "bli1ls9wAx9U"
      },
      "outputs": [],
      "source": [
        "# filepaths for the csvs\n",
        "csv_fpaths = {\n",
        "    \"pdb_data_no_dups\" : '/content/drive/MyDrive/sps_dataset/pdb_data_no_dups.csv',\n",
        "    \"data_seq\" : '/content/drive/MyDrive/sps_dataset/pdb_data_seq.csv'\n",
        "}"
      ]
    },
    {
      "cell_type": "markdown",
      "source": [
        "Let's first load each .csvs into pandas DataFrame so we can gain functionality to understand the nature of the dataset."
      ],
      "metadata": {
        "id": "kgTxMKgqK3mL"
      }
    },
    {
      "cell_type": "code",
      "source": [
        "from pandas import read_csv\n",
        "\n",
        "dataframes = {k: read_csv(v) for k, v in csv_fpaths.items()}"
      ],
      "metadata": {
        "id": "BKu7i5VuLN4S"
      },
      "execution_count": 696,
      "outputs": []
    },
    {
      "cell_type": "markdown",
      "source": [
        "Let's see the data provided in the first dataframe:\n",
        "\n",
        " **pdb_data_no_dups**"
      ],
      "metadata": {
        "id": "dgND652PMrNq"
      }
    },
    {
      "cell_type": "code",
      "source": [
        "dataframes['pdb_data_no_dups'].head()"
      ],
      "metadata": {
        "colab": {
          "base_uri": "https://localhost:8080/",
          "height": 276
        },
        "id": "bNietDZ9MzTE",
        "outputId": "78198ea8-f188-4374-c97a-4daf1869ef9e"
      },
      "execution_count": 697,
      "outputs": [
        {
          "output_type": "execute_result",
          "data": {
            "text/plain": [
              "  structureId         classification  ... phValue publicationYear\n",
              "0        100D         DNA-RNA HYBRID  ...     7.0          1994.0\n",
              "1        101D                    DNA  ...     NaN          1995.0\n",
              "2        101M       OXYGEN TRANSPORT  ...     9.0          1999.0\n",
              "3        102D                    DNA  ...     7.0          1995.0\n",
              "4        102L  HYDROLASE(O-GLYCOSYL)  ...     NaN          1993.0\n",
              "\n",
              "[5 rows x 14 columns]"
            ],
            "text/html": [
              "\n",
              "  <div id=\"df-346e3b08-1f36-4bef-bb71-675a88be81d9\" class=\"colab-df-container\">\n",
              "    <div>\n",
              "<style scoped>\n",
              "    .dataframe tbody tr th:only-of-type {\n",
              "        vertical-align: middle;\n",
              "    }\n",
              "\n",
              "    .dataframe tbody tr th {\n",
              "        vertical-align: top;\n",
              "    }\n",
              "\n",
              "    .dataframe thead th {\n",
              "        text-align: right;\n",
              "    }\n",
              "</style>\n",
              "<table border=\"1\" class=\"dataframe\">\n",
              "  <thead>\n",
              "    <tr style=\"text-align: right;\">\n",
              "      <th></th>\n",
              "      <th>structureId</th>\n",
              "      <th>classification</th>\n",
              "      <th>experimentalTechnique</th>\n",
              "      <th>macromoleculeType</th>\n",
              "      <th>residueCount</th>\n",
              "      <th>resolution</th>\n",
              "      <th>structureMolecularWeight</th>\n",
              "      <th>crystallizationMethod</th>\n",
              "      <th>crystallizationTempK</th>\n",
              "      <th>densityMatthews</th>\n",
              "      <th>densityPercentSol</th>\n",
              "      <th>pdbxDetails</th>\n",
              "      <th>phValue</th>\n",
              "      <th>publicationYear</th>\n",
              "    </tr>\n",
              "  </thead>\n",
              "  <tbody>\n",
              "    <tr>\n",
              "      <th>0</th>\n",
              "      <td>100D</td>\n",
              "      <td>DNA-RNA HYBRID</td>\n",
              "      <td>X-RAY DIFFRACTION</td>\n",
              "      <td>DNA/RNA Hybrid</td>\n",
              "      <td>20</td>\n",
              "      <td>1.90</td>\n",
              "      <td>6360.30</td>\n",
              "      <td>VAPOR DIFFUSION, HANGING DROP</td>\n",
              "      <td>NaN</td>\n",
              "      <td>1.78</td>\n",
              "      <td>30.89</td>\n",
              "      <td>pH 7.00, VAPOR DIFFUSION, HANGING DROP</td>\n",
              "      <td>7.0</td>\n",
              "      <td>1994.0</td>\n",
              "    </tr>\n",
              "    <tr>\n",
              "      <th>1</th>\n",
              "      <td>101D</td>\n",
              "      <td>DNA</td>\n",
              "      <td>X-RAY DIFFRACTION</td>\n",
              "      <td>DNA</td>\n",
              "      <td>24</td>\n",
              "      <td>2.25</td>\n",
              "      <td>7939.35</td>\n",
              "      <td>NaN</td>\n",
              "      <td>NaN</td>\n",
              "      <td>2.00</td>\n",
              "      <td>38.45</td>\n",
              "      <td>NaN</td>\n",
              "      <td>NaN</td>\n",
              "      <td>1995.0</td>\n",
              "    </tr>\n",
              "    <tr>\n",
              "      <th>2</th>\n",
              "      <td>101M</td>\n",
              "      <td>OXYGEN TRANSPORT</td>\n",
              "      <td>X-RAY DIFFRACTION</td>\n",
              "      <td>Protein</td>\n",
              "      <td>154</td>\n",
              "      <td>2.07</td>\n",
              "      <td>18112.80</td>\n",
              "      <td>NaN</td>\n",
              "      <td>NaN</td>\n",
              "      <td>3.09</td>\n",
              "      <td>60.20</td>\n",
              "      <td>3.0 M AMMONIUM SULFATE, 20 MM TRIS, 1MM EDTA, ...</td>\n",
              "      <td>9.0</td>\n",
              "      <td>1999.0</td>\n",
              "    </tr>\n",
              "    <tr>\n",
              "      <th>3</th>\n",
              "      <td>102D</td>\n",
              "      <td>DNA</td>\n",
              "      <td>X-RAY DIFFRACTION</td>\n",
              "      <td>DNA</td>\n",
              "      <td>24</td>\n",
              "      <td>2.20</td>\n",
              "      <td>7637.17</td>\n",
              "      <td>VAPOR DIFFUSION, SITTING DROP</td>\n",
              "      <td>277.0</td>\n",
              "      <td>2.28</td>\n",
              "      <td>46.06</td>\n",
              "      <td>pH 7.00, VAPOR DIFFUSION, SITTING DROP, temper...</td>\n",
              "      <td>7.0</td>\n",
              "      <td>1995.0</td>\n",
              "    </tr>\n",
              "    <tr>\n",
              "      <th>4</th>\n",
              "      <td>102L</td>\n",
              "      <td>HYDROLASE(O-GLYCOSYL)</td>\n",
              "      <td>X-RAY DIFFRACTION</td>\n",
              "      <td>Protein</td>\n",
              "      <td>165</td>\n",
              "      <td>1.74</td>\n",
              "      <td>18926.61</td>\n",
              "      <td>NaN</td>\n",
              "      <td>NaN</td>\n",
              "      <td>2.75</td>\n",
              "      <td>55.28</td>\n",
              "      <td>NaN</td>\n",
              "      <td>NaN</td>\n",
              "      <td>1993.0</td>\n",
              "    </tr>\n",
              "  </tbody>\n",
              "</table>\n",
              "</div>\n",
              "    <div class=\"colab-df-buttons\">\n",
              "\n",
              "  <div class=\"colab-df-container\">\n",
              "    <button class=\"colab-df-convert\" onclick=\"convertToInteractive('df-346e3b08-1f36-4bef-bb71-675a88be81d9')\"\n",
              "            title=\"Convert this dataframe to an interactive table.\"\n",
              "            style=\"display:none;\">\n",
              "\n",
              "  <svg xmlns=\"http://www.w3.org/2000/svg\" height=\"24px\" viewBox=\"0 -960 960 960\">\n",
              "    <path d=\"M120-120v-720h720v720H120Zm60-500h600v-160H180v160Zm220 220h160v-160H400v160Zm0 220h160v-160H400v160ZM180-400h160v-160H180v160Zm440 0h160v-160H620v160ZM180-180h160v-160H180v160Zm440 0h160v-160H620v160Z\"/>\n",
              "  </svg>\n",
              "    </button>\n",
              "\n",
              "  <style>\n",
              "    .colab-df-container {\n",
              "      display:flex;\n",
              "      gap: 12px;\n",
              "    }\n",
              "\n",
              "    .colab-df-convert {\n",
              "      background-color: #E8F0FE;\n",
              "      border: none;\n",
              "      border-radius: 50%;\n",
              "      cursor: pointer;\n",
              "      display: none;\n",
              "      fill: #1967D2;\n",
              "      height: 32px;\n",
              "      padding: 0 0 0 0;\n",
              "      width: 32px;\n",
              "    }\n",
              "\n",
              "    .colab-df-convert:hover {\n",
              "      background-color: #E2EBFA;\n",
              "      box-shadow: 0px 1px 2px rgba(60, 64, 67, 0.3), 0px 1px 3px 1px rgba(60, 64, 67, 0.15);\n",
              "      fill: #174EA6;\n",
              "    }\n",
              "\n",
              "    .colab-df-buttons div {\n",
              "      margin-bottom: 4px;\n",
              "    }\n",
              "\n",
              "    [theme=dark] .colab-df-convert {\n",
              "      background-color: #3B4455;\n",
              "      fill: #D2E3FC;\n",
              "    }\n",
              "\n",
              "    [theme=dark] .colab-df-convert:hover {\n",
              "      background-color: #434B5C;\n",
              "      box-shadow: 0px 1px 3px 1px rgba(0, 0, 0, 0.15);\n",
              "      filter: drop-shadow(0px 1px 2px rgba(0, 0, 0, 0.3));\n",
              "      fill: #FFFFFF;\n",
              "    }\n",
              "  </style>\n",
              "\n",
              "    <script>\n",
              "      const buttonEl =\n",
              "        document.querySelector('#df-346e3b08-1f36-4bef-bb71-675a88be81d9 button.colab-df-convert');\n",
              "      buttonEl.style.display =\n",
              "        google.colab.kernel.accessAllowed ? 'block' : 'none';\n",
              "\n",
              "      async function convertToInteractive(key) {\n",
              "        const element = document.querySelector('#df-346e3b08-1f36-4bef-bb71-675a88be81d9');\n",
              "        const dataTable =\n",
              "          await google.colab.kernel.invokeFunction('convertToInteractive',\n",
              "                                                    [key], {});\n",
              "        if (!dataTable) return;\n",
              "\n",
              "        const docLinkHtml = 'Like what you see? Visit the ' +\n",
              "          '<a target=\"_blank\" href=https://colab.research.google.com/notebooks/data_table.ipynb>data table notebook</a>'\n",
              "          + ' to learn more about interactive tables.';\n",
              "        element.innerHTML = '';\n",
              "        dataTable['output_type'] = 'display_data';\n",
              "        await google.colab.output.renderOutput(dataTable, element);\n",
              "        const docLink = document.createElement('div');\n",
              "        docLink.innerHTML = docLinkHtml;\n",
              "        element.appendChild(docLink);\n",
              "      }\n",
              "    </script>\n",
              "  </div>\n",
              "\n",
              "\n",
              "<div id=\"df-1cfcb776-ed30-4c49-a2bd-7d1f6e066371\">\n",
              "  <button class=\"colab-df-quickchart\" onclick=\"quickchart('df-1cfcb776-ed30-4c49-a2bd-7d1f6e066371')\"\n",
              "            title=\"Suggest charts.\"\n",
              "            style=\"display:none;\">\n",
              "\n",
              "<svg xmlns=\"http://www.w3.org/2000/svg\" height=\"24px\"viewBox=\"0 0 24 24\"\n",
              "     width=\"24px\">\n",
              "    <g>\n",
              "        <path d=\"M19 3H5c-1.1 0-2 .9-2 2v14c0 1.1.9 2 2 2h14c1.1 0 2-.9 2-2V5c0-1.1-.9-2-2-2zM9 17H7v-7h2v7zm4 0h-2V7h2v10zm4 0h-2v-4h2v4z\"/>\n",
              "    </g>\n",
              "</svg>\n",
              "  </button>\n",
              "\n",
              "<style>\n",
              "  .colab-df-quickchart {\n",
              "    background-color: #E8F0FE;\n",
              "    border: none;\n",
              "    border-radius: 50%;\n",
              "    cursor: pointer;\n",
              "    display: none;\n",
              "    fill: #1967D2;\n",
              "    height: 32px;\n",
              "    padding: 0 0 0 0;\n",
              "    width: 32px;\n",
              "  }\n",
              "\n",
              "  .colab-df-quickchart:hover {\n",
              "    background-color: #E2EBFA;\n",
              "    box-shadow: 0px 1px 2px rgba(60, 64, 67, 0.3), 0px 1px 3px 1px rgba(60, 64, 67, 0.15);\n",
              "    fill: #174EA6;\n",
              "  }\n",
              "\n",
              "  [theme=dark] .colab-df-quickchart {\n",
              "    background-color: #3B4455;\n",
              "    fill: #D2E3FC;\n",
              "  }\n",
              "\n",
              "  [theme=dark] .colab-df-quickchart:hover {\n",
              "    background-color: #434B5C;\n",
              "    box-shadow: 0px 1px 3px 1px rgba(0, 0, 0, 0.15);\n",
              "    filter: drop-shadow(0px 1px 2px rgba(0, 0, 0, 0.3));\n",
              "    fill: #FFFFFF;\n",
              "  }\n",
              "</style>\n",
              "\n",
              "  <script>\n",
              "    async function quickchart(key) {\n",
              "      const charts = await google.colab.kernel.invokeFunction(\n",
              "          'suggestCharts', [key], {});\n",
              "    }\n",
              "    (() => {\n",
              "      let quickchartButtonEl =\n",
              "        document.querySelector('#df-1cfcb776-ed30-4c49-a2bd-7d1f6e066371 button');\n",
              "      quickchartButtonEl.style.display =\n",
              "        google.colab.kernel.accessAllowed ? 'block' : 'none';\n",
              "    })();\n",
              "  </script>\n",
              "</div>\n",
              "    </div>\n",
              "  </div>\n"
            ]
          },
          "metadata": {},
          "execution_count": 697
        }
      ]
    },
    {
      "cell_type": "code",
      "source": [
        "print(dataframes['pdb_data_no_dups'].columns)"
      ],
      "metadata": {
        "colab": {
          "base_uri": "https://localhost:8080/"
        },
        "id": "fJqcBEn6NIgR",
        "outputId": "b80842a2-c800-4373-dd00-dc2d6f5c0565"
      },
      "execution_count": 698,
      "outputs": [
        {
          "output_type": "stream",
          "name": "stdout",
          "text": [
            "Index(['structureId', 'classification', 'experimentalTechnique',\n",
            "       'macromoleculeType', 'residueCount', 'resolution',\n",
            "       'structureMolecularWeight', 'crystallizationMethod',\n",
            "       'crystallizationTempK', 'densityMatthews', 'densityPercentSol',\n",
            "       'pdbxDetails', 'phValue', 'publicationYear'],\n",
            "      dtype='object')\n"
          ]
        }
      ]
    },
    {
      "cell_type": "markdown",
      "source": [
        "Lets do the same for the second dataframe"
      ],
      "metadata": {
        "id": "2de7ZVrwNetL"
      }
    },
    {
      "cell_type": "code",
      "source": [
        "dataframes['data_seq'].head(10)"
      ],
      "metadata": {
        "colab": {
          "base_uri": "https://localhost:8080/",
          "height": 363
        },
        "id": "n2KWVw1xNtaG",
        "outputId": "41451483-dc3f-4036-be8c-1031f8bd13c6"
      },
      "execution_count": 699,
      "outputs": [
        {
          "output_type": "execute_result",
          "data": {
            "text/plain": [
              "  structureId chainId  ... residueCount  macromoleculeType\n",
              "0        100D       A  ...           20     DNA/RNA Hybrid\n",
              "1        100D       B  ...           20     DNA/RNA Hybrid\n",
              "2        101D       A  ...           24                DNA\n",
              "3        101D       B  ...           24                DNA\n",
              "4        101M       A  ...          154            Protein\n",
              "5        102D       A  ...           24                DNA\n",
              "6        102D       B  ...           24                DNA\n",
              "7        102L       A  ...          165            Protein\n",
              "8        102M       A  ...          154            Protein\n",
              "9        103D       A  ...           24                DNA\n",
              "\n",
              "[10 rows x 5 columns]"
            ],
            "text/html": [
              "\n",
              "  <div id=\"df-ba8d1669-fb1e-4e1a-aa42-db372ac5bf48\" class=\"colab-df-container\">\n",
              "    <div>\n",
              "<style scoped>\n",
              "    .dataframe tbody tr th:only-of-type {\n",
              "        vertical-align: middle;\n",
              "    }\n",
              "\n",
              "    .dataframe tbody tr th {\n",
              "        vertical-align: top;\n",
              "    }\n",
              "\n",
              "    .dataframe thead th {\n",
              "        text-align: right;\n",
              "    }\n",
              "</style>\n",
              "<table border=\"1\" class=\"dataframe\">\n",
              "  <thead>\n",
              "    <tr style=\"text-align: right;\">\n",
              "      <th></th>\n",
              "      <th>structureId</th>\n",
              "      <th>chainId</th>\n",
              "      <th>sequence</th>\n",
              "      <th>residueCount</th>\n",
              "      <th>macromoleculeType</th>\n",
              "    </tr>\n",
              "  </thead>\n",
              "  <tbody>\n",
              "    <tr>\n",
              "      <th>0</th>\n",
              "      <td>100D</td>\n",
              "      <td>A</td>\n",
              "      <td>CCGGCGCCGG</td>\n",
              "      <td>20</td>\n",
              "      <td>DNA/RNA Hybrid</td>\n",
              "    </tr>\n",
              "    <tr>\n",
              "      <th>1</th>\n",
              "      <td>100D</td>\n",
              "      <td>B</td>\n",
              "      <td>CCGGCGCCGG</td>\n",
              "      <td>20</td>\n",
              "      <td>DNA/RNA Hybrid</td>\n",
              "    </tr>\n",
              "    <tr>\n",
              "      <th>2</th>\n",
              "      <td>101D</td>\n",
              "      <td>A</td>\n",
              "      <td>CGCGAATTCGCG</td>\n",
              "      <td>24</td>\n",
              "      <td>DNA</td>\n",
              "    </tr>\n",
              "    <tr>\n",
              "      <th>3</th>\n",
              "      <td>101D</td>\n",
              "      <td>B</td>\n",
              "      <td>CGCGAATTCGCG</td>\n",
              "      <td>24</td>\n",
              "      <td>DNA</td>\n",
              "    </tr>\n",
              "    <tr>\n",
              "      <th>4</th>\n",
              "      <td>101M</td>\n",
              "      <td>A</td>\n",
              "      <td>MVLSEGEWQLVLHVWAKVEADVAGHGQDILIRLFKSHPETLEKFDR...</td>\n",
              "      <td>154</td>\n",
              "      <td>Protein</td>\n",
              "    </tr>\n",
              "    <tr>\n",
              "      <th>5</th>\n",
              "      <td>102D</td>\n",
              "      <td>A</td>\n",
              "      <td>CGCAAATTTGCG</td>\n",
              "      <td>24</td>\n",
              "      <td>DNA</td>\n",
              "    </tr>\n",
              "    <tr>\n",
              "      <th>6</th>\n",
              "      <td>102D</td>\n",
              "      <td>B</td>\n",
              "      <td>CGCAAATTTGCG</td>\n",
              "      <td>24</td>\n",
              "      <td>DNA</td>\n",
              "    </tr>\n",
              "    <tr>\n",
              "      <th>7</th>\n",
              "      <td>102L</td>\n",
              "      <td>A</td>\n",
              "      <td>MNIFEMLRIDEGLRLKIYKDTEGYYTIGIGHLLTKSPSLNAAAKSE...</td>\n",
              "      <td>165</td>\n",
              "      <td>Protein</td>\n",
              "    </tr>\n",
              "    <tr>\n",
              "      <th>8</th>\n",
              "      <td>102M</td>\n",
              "      <td>A</td>\n",
              "      <td>MVLSEGEWQLVLHVWAKVEADVAGHGQDILIRLFKSHPETLEKFDR...</td>\n",
              "      <td>154</td>\n",
              "      <td>Protein</td>\n",
              "    </tr>\n",
              "    <tr>\n",
              "      <th>9</th>\n",
              "      <td>103D</td>\n",
              "      <td>A</td>\n",
              "      <td>GTGGAATGGAAC</td>\n",
              "      <td>24</td>\n",
              "      <td>DNA</td>\n",
              "    </tr>\n",
              "  </tbody>\n",
              "</table>\n",
              "</div>\n",
              "    <div class=\"colab-df-buttons\">\n",
              "\n",
              "  <div class=\"colab-df-container\">\n",
              "    <button class=\"colab-df-convert\" onclick=\"convertToInteractive('df-ba8d1669-fb1e-4e1a-aa42-db372ac5bf48')\"\n",
              "            title=\"Convert this dataframe to an interactive table.\"\n",
              "            style=\"display:none;\">\n",
              "\n",
              "  <svg xmlns=\"http://www.w3.org/2000/svg\" height=\"24px\" viewBox=\"0 -960 960 960\">\n",
              "    <path d=\"M120-120v-720h720v720H120Zm60-500h600v-160H180v160Zm220 220h160v-160H400v160Zm0 220h160v-160H400v160ZM180-400h160v-160H180v160Zm440 0h160v-160H620v160ZM180-180h160v-160H180v160Zm440 0h160v-160H620v160Z\"/>\n",
              "  </svg>\n",
              "    </button>\n",
              "\n",
              "  <style>\n",
              "    .colab-df-container {\n",
              "      display:flex;\n",
              "      gap: 12px;\n",
              "    }\n",
              "\n",
              "    .colab-df-convert {\n",
              "      background-color: #E8F0FE;\n",
              "      border: none;\n",
              "      border-radius: 50%;\n",
              "      cursor: pointer;\n",
              "      display: none;\n",
              "      fill: #1967D2;\n",
              "      height: 32px;\n",
              "      padding: 0 0 0 0;\n",
              "      width: 32px;\n",
              "    }\n",
              "\n",
              "    .colab-df-convert:hover {\n",
              "      background-color: #E2EBFA;\n",
              "      box-shadow: 0px 1px 2px rgba(60, 64, 67, 0.3), 0px 1px 3px 1px rgba(60, 64, 67, 0.15);\n",
              "      fill: #174EA6;\n",
              "    }\n",
              "\n",
              "    .colab-df-buttons div {\n",
              "      margin-bottom: 4px;\n",
              "    }\n",
              "\n",
              "    [theme=dark] .colab-df-convert {\n",
              "      background-color: #3B4455;\n",
              "      fill: #D2E3FC;\n",
              "    }\n",
              "\n",
              "    [theme=dark] .colab-df-convert:hover {\n",
              "      background-color: #434B5C;\n",
              "      box-shadow: 0px 1px 3px 1px rgba(0, 0, 0, 0.15);\n",
              "      filter: drop-shadow(0px 1px 2px rgba(0, 0, 0, 0.3));\n",
              "      fill: #FFFFFF;\n",
              "    }\n",
              "  </style>\n",
              "\n",
              "    <script>\n",
              "      const buttonEl =\n",
              "        document.querySelector('#df-ba8d1669-fb1e-4e1a-aa42-db372ac5bf48 button.colab-df-convert');\n",
              "      buttonEl.style.display =\n",
              "        google.colab.kernel.accessAllowed ? 'block' : 'none';\n",
              "\n",
              "      async function convertToInteractive(key) {\n",
              "        const element = document.querySelector('#df-ba8d1669-fb1e-4e1a-aa42-db372ac5bf48');\n",
              "        const dataTable =\n",
              "          await google.colab.kernel.invokeFunction('convertToInteractive',\n",
              "                                                    [key], {});\n",
              "        if (!dataTable) return;\n",
              "\n",
              "        const docLinkHtml = 'Like what you see? Visit the ' +\n",
              "          '<a target=\"_blank\" href=https://colab.research.google.com/notebooks/data_table.ipynb>data table notebook</a>'\n",
              "          + ' to learn more about interactive tables.';\n",
              "        element.innerHTML = '';\n",
              "        dataTable['output_type'] = 'display_data';\n",
              "        await google.colab.output.renderOutput(dataTable, element);\n",
              "        const docLink = document.createElement('div');\n",
              "        docLink.innerHTML = docLinkHtml;\n",
              "        element.appendChild(docLink);\n",
              "      }\n",
              "    </script>\n",
              "  </div>\n",
              "\n",
              "\n",
              "<div id=\"df-4a54c3ea-421a-46e3-8322-f02a4230b583\">\n",
              "  <button class=\"colab-df-quickchart\" onclick=\"quickchart('df-4a54c3ea-421a-46e3-8322-f02a4230b583')\"\n",
              "            title=\"Suggest charts.\"\n",
              "            style=\"display:none;\">\n",
              "\n",
              "<svg xmlns=\"http://www.w3.org/2000/svg\" height=\"24px\"viewBox=\"0 0 24 24\"\n",
              "     width=\"24px\">\n",
              "    <g>\n",
              "        <path d=\"M19 3H5c-1.1 0-2 .9-2 2v14c0 1.1.9 2 2 2h14c1.1 0 2-.9 2-2V5c0-1.1-.9-2-2-2zM9 17H7v-7h2v7zm4 0h-2V7h2v10zm4 0h-2v-4h2v4z\"/>\n",
              "    </g>\n",
              "</svg>\n",
              "  </button>\n",
              "\n",
              "<style>\n",
              "  .colab-df-quickchart {\n",
              "    background-color: #E8F0FE;\n",
              "    border: none;\n",
              "    border-radius: 50%;\n",
              "    cursor: pointer;\n",
              "    display: none;\n",
              "    fill: #1967D2;\n",
              "    height: 32px;\n",
              "    padding: 0 0 0 0;\n",
              "    width: 32px;\n",
              "  }\n",
              "\n",
              "  .colab-df-quickchart:hover {\n",
              "    background-color: #E2EBFA;\n",
              "    box-shadow: 0px 1px 2px rgba(60, 64, 67, 0.3), 0px 1px 3px 1px rgba(60, 64, 67, 0.15);\n",
              "    fill: #174EA6;\n",
              "  }\n",
              "\n",
              "  [theme=dark] .colab-df-quickchart {\n",
              "    background-color: #3B4455;\n",
              "    fill: #D2E3FC;\n",
              "  }\n",
              "\n",
              "  [theme=dark] .colab-df-quickchart:hover {\n",
              "    background-color: #434B5C;\n",
              "    box-shadow: 0px 1px 3px 1px rgba(0, 0, 0, 0.15);\n",
              "    filter: drop-shadow(0px 1px 2px rgba(0, 0, 0, 0.3));\n",
              "    fill: #FFFFFF;\n",
              "  }\n",
              "</style>\n",
              "\n",
              "  <script>\n",
              "    async function quickchart(key) {\n",
              "      const charts = await google.colab.kernel.invokeFunction(\n",
              "          'suggestCharts', [key], {});\n",
              "    }\n",
              "    (() => {\n",
              "      let quickchartButtonEl =\n",
              "        document.querySelector('#df-4a54c3ea-421a-46e3-8322-f02a4230b583 button');\n",
              "      quickchartButtonEl.style.display =\n",
              "        google.colab.kernel.accessAllowed ? 'block' : 'none';\n",
              "    })();\n",
              "  </script>\n",
              "</div>\n",
              "    </div>\n",
              "  </div>\n"
            ]
          },
          "metadata": {},
          "execution_count": 699
        }
      ]
    },
    {
      "cell_type": "code",
      "source": [
        "print(dataframes['data_seq'].columns)"
      ],
      "metadata": {
        "colab": {
          "base_uri": "https://localhost:8080/"
        },
        "id": "8x--vOu-NyJm",
        "outputId": "575ae9a8-179c-44af-ed5a-257472ea7923"
      },
      "execution_count": 700,
      "outputs": [
        {
          "output_type": "stream",
          "name": "stdout",
          "text": [
            "Index(['structureId', 'chainId', 'sequence', 'residueCount',\n",
            "       'macromoleculeType'],\n",
            "      dtype='object')\n"
          ]
        }
      ]
    },
    {
      "cell_type": "markdown",
      "source": [
        "This prelim look at both dataframes raises the following questions:\n",
        "\n",
        "* What is **structureId** & **chainId**?\n",
        "\n",
        "> * **structureId**: Uniquely identifies a protein structure (4 digits)\n",
        "\n",
        "> *\t**chainId**: Uniquely identifies a polypeptide chain within a protein structure (1-2 digits)\n",
        "\n",
        "\n",
        "💡 _**insight**_ This could mean that for each structureId could have multiple chainIds in the second dataframe."
      ],
      "metadata": {
        "id": "6ppXPdfFN4k1"
      }
    },
    {
      "cell_type": "markdown",
      "source": [
        "Let's check if the number of rows in both DataFrames are equal."
      ],
      "metadata": {
        "id": "4T65aLNuQobq"
      }
    },
    {
      "cell_type": "code",
      "source": [
        "dataframes['data_seq'].size == dataframes['pdb_data_no_dups'].size"
      ],
      "metadata": {
        "colab": {
          "base_uri": "https://localhost:8080/"
        },
        "id": "xrSfgOg5QxmN",
        "outputId": "0d897a2a-adfc-44d9-efcf-d496fc9d8e2a"
      },
      "execution_count": 701,
      "outputs": [
        {
          "output_type": "execute_result",
          "data": {
            "text/plain": [
              "False"
            ]
          },
          "metadata": {},
          "execution_count": 701
        }
      ]
    },
    {
      "cell_type": "markdown",
      "source": [
        "Let's confirm if structureId are unique values in the both dataframes."
      ],
      "metadata": {
        "id": "l5eFAobZRSkH"
      }
    },
    {
      "cell_type": "code",
      "source": [
        "dataframes['pdb_data_no_dups'].size"
      ],
      "metadata": {
        "id": "LJ4I0EA5RSGq",
        "colab": {
          "base_uri": "https://localhost:8080/"
        },
        "outputId": "8d08a138-2dfc-44b8-bacb-f2465531c007"
      },
      "execution_count": 702,
      "outputs": [
        {
          "output_type": "execute_result",
          "data": {
            "text/plain": [
              "1979614"
            ]
          },
          "metadata": {},
          "execution_count": 702
        }
      ]
    },
    {
      "cell_type": "code",
      "source": [
        "dataframes['pdb_data_no_dups']['structureId'].size"
      ],
      "metadata": {
        "colab": {
          "base_uri": "https://localhost:8080/"
        },
        "id": "G4PAg24TUDah",
        "outputId": "335fee05-d72f-4b37-8980-df2ba3bb58da"
      },
      "execution_count": 703,
      "outputs": [
        {
          "output_type": "execute_result",
          "data": {
            "text/plain": [
              "141401"
            ]
          },
          "metadata": {},
          "execution_count": 703
        }
      ]
    },
    {
      "cell_type": "code",
      "source": [
        "dataframes['data_seq'].size"
      ],
      "metadata": {
        "colab": {
          "base_uri": "https://localhost:8080/"
        },
        "id": "HSFedKbQUg-3",
        "outputId": "5355191b-af59-459e-f75c-e18174389088"
      },
      "execution_count": 704,
      "outputs": [
        {
          "output_type": "execute_result",
          "data": {
            "text/plain": [
              "2336520"
            ]
          },
          "metadata": {},
          "execution_count": 704
        }
      ]
    },
    {
      "cell_type": "code",
      "source": [
        "dataframes['data_seq']['structureId'].size"
      ],
      "metadata": {
        "colab": {
          "base_uri": "https://localhost:8080/"
        },
        "id": "Dg-9JQ3aUlfy",
        "outputId": "bd3868db-46c8-4d57-f947-05b3ee89ddc1"
      },
      "execution_count": 705,
      "outputs": [
        {
          "output_type": "execute_result",
          "data": {
            "text/plain": [
              "467304"
            ]
          },
          "metadata": {},
          "execution_count": 705
        }
      ]
    },
    {
      "cell_type": "markdown",
      "source": [
        "💡 As we can see this is not the case.\n",
        "\n",
        "Therefore dropping duplicate sequences (as done [here](https://www.kaggle.com/code/danofer/deep-protein-sequence-family-classification)) would cause the loss of chainIds."
      ],
      "metadata": {
        "id": "czyRy-vrVM2B"
      }
    },
    {
      "cell_type": "markdown",
      "source": [
        "Let's identify the columns that are in common between both dataframes."
      ],
      "metadata": {
        "id": "ZFktWJ0mWZcr"
      }
    },
    {
      "cell_type": "code",
      "source": [
        "dataframes['pdb_data_no_dups'].columns.intersection(dataframes['data_seq'].columns)"
      ],
      "metadata": {
        "colab": {
          "base_uri": "https://localhost:8080/"
        },
        "id": "lMacFUNNWY5i",
        "outputId": "cf0119b6-918c-4666-fbc9-a96f416f6129"
      },
      "execution_count": 706,
      "outputs": [
        {
          "output_type": "execute_result",
          "data": {
            "text/plain": [
              "Index(['structureId', 'macromoleculeType', 'residueCount'], dtype='object')"
            ]
          },
          "metadata": {},
          "execution_count": 706
        }
      ]
    },
    {
      "cell_type": "markdown",
      "source": [
        "### 1.0.2 Dataset Cleaning"
      ],
      "metadata": {
        "id": "vCq7N72Sa-Wl"
      }
    },
    {
      "cell_type": "markdown",
      "source": [
        "\n",
        "Before we create a new Id string we need to make sure to Impute / remove data that is NA in each column and since we are only dealing with protein sequences in this study lets only extract protein sequences (given in macromoleculeType)."
      ],
      "metadata": {
        "id": "6kR6kmu0fsYN"
      }
    },
    {
      "cell_type": "markdown",
      "source": [
        "Filtering out macromoleculeType"
      ],
      "metadata": {
        "id": "pVVI5vqRZH75"
      }
    },
    {
      "cell_type": "code",
      "source": [
        "cleaned_dataframes = {k: v[v['macromoleculeType'] == 'Protein'].dropna() for k, v in dataframes.items()}"
      ],
      "metadata": {
        "id": "UvLY4oCBXA37"
      },
      "execution_count": 707,
      "outputs": []
    },
    {
      "cell_type": "markdown",
      "source": [
        "Droping rows with missing values:"
      ],
      "metadata": {
        "id": "qo3Sg5SbcwD1"
      }
    },
    {
      "cell_type": "code",
      "source": [
        "cleaned_dataframes = {k: v.where(v != '', v) for k, v in dataframes.items()}"
      ],
      "metadata": {
        "id": "_KLAeeYdbXMV"
      },
      "execution_count": 708,
      "outputs": []
    },
    {
      "cell_type": "code",
      "source": [
        "cleaned_dataframes['pdb_data_no_dups'].size"
      ],
      "metadata": {
        "colab": {
          "base_uri": "https://localhost:8080/"
        },
        "id": "neYZT6_hcmoW",
        "outputId": "7540933d-9588-4518-c06c-4744bc20d045"
      },
      "execution_count": 709,
      "outputs": [
        {
          "output_type": "execute_result",
          "data": {
            "text/plain": [
              "1979614"
            ]
          },
          "metadata": {},
          "execution_count": 709
        }
      ]
    },
    {
      "cell_type": "code",
      "source": [
        "cleaned_dataframes['data_seq'].size"
      ],
      "metadata": {
        "colab": {
          "base_uri": "https://localhost:8080/"
        },
        "id": "IlgV-7VIc1MV",
        "outputId": "dd25a295-2712-42d0-fa3d-64d879061c20"
      },
      "execution_count": 710,
      "outputs": [
        {
          "output_type": "execute_result",
          "data": {
            "text/plain": [
              "2336520"
            ]
          },
          "metadata": {},
          "execution_count": 710
        }
      ]
    },
    {
      "cell_type": "markdown",
      "source": [
        "Let's merge our dataset by structureId\n",
        "\n",
        "❓ Why are more than just protein macromoleculeType given in a protein sequence dataset?"
      ],
      "metadata": {
        "id": "KABjBNdXXBV6"
      }
    },
    {
      "cell_type": "code",
      "source": [
        "from functools import reduce\n",
        "from pandas import merge\n",
        "\n",
        "final_dataset = reduce(lambda df1, df2: merge(df1, df2, how='inner', on='structureId'), cleaned_dataframes.values())"
      ],
      "metadata": {
        "id": "EiA6Pt9aehC9"
      },
      "execution_count": 711,
      "outputs": []
    },
    {
      "cell_type": "code",
      "source": [
        "final_dataset.size"
      ],
      "metadata": {
        "colab": {
          "base_uri": "https://localhost:8080/"
        },
        "id": "8QWxkQQCgb1R",
        "outputId": "99a18817-9296-40cb-e95e-061099516964"
      },
      "execution_count": 712,
      "outputs": [
        {
          "output_type": "execute_result",
          "data": {
            "text/plain": [
              "8480682"
            ]
          },
          "metadata": {},
          "execution_count": 712
        }
      ]
    },
    {
      "cell_type": "code",
      "source": [
        "final_dataset = final_dataset[['classification', 'sequence']].drop_duplicates('sequence')"
      ],
      "metadata": {
        "id": "BW4u2huXpb8T"
      },
      "execution_count": 713,
      "outputs": []
    },
    {
      "cell_type": "code",
      "source": [
        "final_dataset.size"
      ],
      "metadata": {
        "colab": {
          "base_uri": "https://localhost:8080/"
        },
        "id": "f0B49RlM21B0",
        "outputId": "eb6050c7-f181-4caf-dd0b-4123ebf2e075"
      },
      "execution_count": 714,
      "outputs": [
        {
          "output_type": "execute_result",
          "data": {
            "text/plain": [
              "209626"
            ]
          },
          "metadata": {},
          "execution_count": 714
        }
      ]
    },
    {
      "cell_type": "code",
      "source": [
        "final_dataset = final_dataset.reset_index(drop=True)"
      ],
      "metadata": {
        "id": "jZhPOujb4_ZX"
      },
      "execution_count": 715,
      "outputs": []
    },
    {
      "cell_type": "code",
      "source": [
        "final_dataset"
      ],
      "metadata": {
        "colab": {
          "base_uri": "https://localhost:8080/",
          "height": 583
        },
        "id": "KCB_m5BO5Y39",
        "outputId": "80b6716f-a71e-4cc8-e1cc-07903d4089de"
      },
      "execution_count": 716,
      "outputs": [
        {
          "output_type": "execute_result",
          "data": {
            "text/plain": [
              "               classification                                           sequence\n",
              "0              DNA-RNA HYBRID                                         CCGGCGCCGG\n",
              "1                         DNA                                       CGCGAATTCGCG\n",
              "2            OXYGEN TRANSPORT  MVLSEGEWQLVLHVWAKVEADVAGHGQDILIRLFKSHPETLEKFDR...\n",
              "3                         DNA                                       CGCAAATTTGCG\n",
              "4       HYDROLASE(O-GLYCOSYL)  MNIFEMLRIDEGLRLKIYKDTEGYYTIGIGHLLTKSPSLNAAAKSE...\n",
              "...                       ...                                                ...\n",
              "104808     ANTIFREEZE PROTEIN  ANQASVVANQLIPINTALNLVMMRSEVVTPVGIPAEDIPRLVSMQV...\n",
              "104809    HYDROLASE INHIBITOR  VHHPPSYVAHLASDFGVRVFQQVAQASKDRNVVFSPYGVASVLAML...\n",
              "104810    HYDROLASE INHIBITOR                  MAPEEIIMDRPFLFVVRHNPTGTVLFMGQVMEP\n",
              "104811     ELECTRON TRANSPORT  LEVLLGSGDGSLVFVPSEFSVPSGEKIVFKNNAGFPHNVVFDEDEI...\n",
              "104812   LYASE(CARBON-CARBON)  MDQSSRYVNLALKEEDLIAGGEHVLCAYIMKPKAGYGYVATAAHFA...\n",
              "\n",
              "[104813 rows x 2 columns]"
            ],
            "text/html": [
              "\n",
              "  <div id=\"df-ef5c7f7c-9bbf-494c-9d92-2b23056f9638\" class=\"colab-df-container\">\n",
              "    <div>\n",
              "<style scoped>\n",
              "    .dataframe tbody tr th:only-of-type {\n",
              "        vertical-align: middle;\n",
              "    }\n",
              "\n",
              "    .dataframe tbody tr th {\n",
              "        vertical-align: top;\n",
              "    }\n",
              "\n",
              "    .dataframe thead th {\n",
              "        text-align: right;\n",
              "    }\n",
              "</style>\n",
              "<table border=\"1\" class=\"dataframe\">\n",
              "  <thead>\n",
              "    <tr style=\"text-align: right;\">\n",
              "      <th></th>\n",
              "      <th>classification</th>\n",
              "      <th>sequence</th>\n",
              "    </tr>\n",
              "  </thead>\n",
              "  <tbody>\n",
              "    <tr>\n",
              "      <th>0</th>\n",
              "      <td>DNA-RNA HYBRID</td>\n",
              "      <td>CCGGCGCCGG</td>\n",
              "    </tr>\n",
              "    <tr>\n",
              "      <th>1</th>\n",
              "      <td>DNA</td>\n",
              "      <td>CGCGAATTCGCG</td>\n",
              "    </tr>\n",
              "    <tr>\n",
              "      <th>2</th>\n",
              "      <td>OXYGEN TRANSPORT</td>\n",
              "      <td>MVLSEGEWQLVLHVWAKVEADVAGHGQDILIRLFKSHPETLEKFDR...</td>\n",
              "    </tr>\n",
              "    <tr>\n",
              "      <th>3</th>\n",
              "      <td>DNA</td>\n",
              "      <td>CGCAAATTTGCG</td>\n",
              "    </tr>\n",
              "    <tr>\n",
              "      <th>4</th>\n",
              "      <td>HYDROLASE(O-GLYCOSYL)</td>\n",
              "      <td>MNIFEMLRIDEGLRLKIYKDTEGYYTIGIGHLLTKSPSLNAAAKSE...</td>\n",
              "    </tr>\n",
              "    <tr>\n",
              "      <th>...</th>\n",
              "      <td>...</td>\n",
              "      <td>...</td>\n",
              "    </tr>\n",
              "    <tr>\n",
              "      <th>104808</th>\n",
              "      <td>ANTIFREEZE PROTEIN</td>\n",
              "      <td>ANQASVVANQLIPINTALNLVMMRSEVVTPVGIPAEDIPRLVSMQV...</td>\n",
              "    </tr>\n",
              "    <tr>\n",
              "      <th>104809</th>\n",
              "      <td>HYDROLASE INHIBITOR</td>\n",
              "      <td>VHHPPSYVAHLASDFGVRVFQQVAQASKDRNVVFSPYGVASVLAML...</td>\n",
              "    </tr>\n",
              "    <tr>\n",
              "      <th>104810</th>\n",
              "      <td>HYDROLASE INHIBITOR</td>\n",
              "      <td>MAPEEIIMDRPFLFVVRHNPTGTVLFMGQVMEP</td>\n",
              "    </tr>\n",
              "    <tr>\n",
              "      <th>104811</th>\n",
              "      <td>ELECTRON TRANSPORT</td>\n",
              "      <td>LEVLLGSGDGSLVFVPSEFSVPSGEKIVFKNNAGFPHNVVFDEDEI...</td>\n",
              "    </tr>\n",
              "    <tr>\n",
              "      <th>104812</th>\n",
              "      <td>LYASE(CARBON-CARBON)</td>\n",
              "      <td>MDQSSRYVNLALKEEDLIAGGEHVLCAYIMKPKAGYGYVATAAHFA...</td>\n",
              "    </tr>\n",
              "  </tbody>\n",
              "</table>\n",
              "<p>104813 rows × 2 columns</p>\n",
              "</div>\n",
              "    <div class=\"colab-df-buttons\">\n",
              "\n",
              "  <div class=\"colab-df-container\">\n",
              "    <button class=\"colab-df-convert\" onclick=\"convertToInteractive('df-ef5c7f7c-9bbf-494c-9d92-2b23056f9638')\"\n",
              "            title=\"Convert this dataframe to an interactive table.\"\n",
              "            style=\"display:none;\">\n",
              "\n",
              "  <svg xmlns=\"http://www.w3.org/2000/svg\" height=\"24px\" viewBox=\"0 -960 960 960\">\n",
              "    <path d=\"M120-120v-720h720v720H120Zm60-500h600v-160H180v160Zm220 220h160v-160H400v160Zm0 220h160v-160H400v160ZM180-400h160v-160H180v160Zm440 0h160v-160H620v160ZM180-180h160v-160H180v160Zm440 0h160v-160H620v160Z\"/>\n",
              "  </svg>\n",
              "    </button>\n",
              "\n",
              "  <style>\n",
              "    .colab-df-container {\n",
              "      display:flex;\n",
              "      gap: 12px;\n",
              "    }\n",
              "\n",
              "    .colab-df-convert {\n",
              "      background-color: #E8F0FE;\n",
              "      border: none;\n",
              "      border-radius: 50%;\n",
              "      cursor: pointer;\n",
              "      display: none;\n",
              "      fill: #1967D2;\n",
              "      height: 32px;\n",
              "      padding: 0 0 0 0;\n",
              "      width: 32px;\n",
              "    }\n",
              "\n",
              "    .colab-df-convert:hover {\n",
              "      background-color: #E2EBFA;\n",
              "      box-shadow: 0px 1px 2px rgba(60, 64, 67, 0.3), 0px 1px 3px 1px rgba(60, 64, 67, 0.15);\n",
              "      fill: #174EA6;\n",
              "    }\n",
              "\n",
              "    .colab-df-buttons div {\n",
              "      margin-bottom: 4px;\n",
              "    }\n",
              "\n",
              "    [theme=dark] .colab-df-convert {\n",
              "      background-color: #3B4455;\n",
              "      fill: #D2E3FC;\n",
              "    }\n",
              "\n",
              "    [theme=dark] .colab-df-convert:hover {\n",
              "      background-color: #434B5C;\n",
              "      box-shadow: 0px 1px 3px 1px rgba(0, 0, 0, 0.15);\n",
              "      filter: drop-shadow(0px 1px 2px rgba(0, 0, 0, 0.3));\n",
              "      fill: #FFFFFF;\n",
              "    }\n",
              "  </style>\n",
              "\n",
              "    <script>\n",
              "      const buttonEl =\n",
              "        document.querySelector('#df-ef5c7f7c-9bbf-494c-9d92-2b23056f9638 button.colab-df-convert');\n",
              "      buttonEl.style.display =\n",
              "        google.colab.kernel.accessAllowed ? 'block' : 'none';\n",
              "\n",
              "      async function convertToInteractive(key) {\n",
              "        const element = document.querySelector('#df-ef5c7f7c-9bbf-494c-9d92-2b23056f9638');\n",
              "        const dataTable =\n",
              "          await google.colab.kernel.invokeFunction('convertToInteractive',\n",
              "                                                    [key], {});\n",
              "        if (!dataTable) return;\n",
              "\n",
              "        const docLinkHtml = 'Like what you see? Visit the ' +\n",
              "          '<a target=\"_blank\" href=https://colab.research.google.com/notebooks/data_table.ipynb>data table notebook</a>'\n",
              "          + ' to learn more about interactive tables.';\n",
              "        element.innerHTML = '';\n",
              "        dataTable['output_type'] = 'display_data';\n",
              "        await google.colab.output.renderOutput(dataTable, element);\n",
              "        const docLink = document.createElement('div');\n",
              "        docLink.innerHTML = docLinkHtml;\n",
              "        element.appendChild(docLink);\n",
              "      }\n",
              "    </script>\n",
              "  </div>\n",
              "\n",
              "\n",
              "<div id=\"df-0fd2520b-17cd-4e2a-829a-4d9ee80d8760\">\n",
              "  <button class=\"colab-df-quickchart\" onclick=\"quickchart('df-0fd2520b-17cd-4e2a-829a-4d9ee80d8760')\"\n",
              "            title=\"Suggest charts.\"\n",
              "            style=\"display:none;\">\n",
              "\n",
              "<svg xmlns=\"http://www.w3.org/2000/svg\" height=\"24px\"viewBox=\"0 0 24 24\"\n",
              "     width=\"24px\">\n",
              "    <g>\n",
              "        <path d=\"M19 3H5c-1.1 0-2 .9-2 2v14c0 1.1.9 2 2 2h14c1.1 0 2-.9 2-2V5c0-1.1-.9-2-2-2zM9 17H7v-7h2v7zm4 0h-2V7h2v10zm4 0h-2v-4h2v4z\"/>\n",
              "    </g>\n",
              "</svg>\n",
              "  </button>\n",
              "\n",
              "<style>\n",
              "  .colab-df-quickchart {\n",
              "    background-color: #E8F0FE;\n",
              "    border: none;\n",
              "    border-radius: 50%;\n",
              "    cursor: pointer;\n",
              "    display: none;\n",
              "    fill: #1967D2;\n",
              "    height: 32px;\n",
              "    padding: 0 0 0 0;\n",
              "    width: 32px;\n",
              "  }\n",
              "\n",
              "  .colab-df-quickchart:hover {\n",
              "    background-color: #E2EBFA;\n",
              "    box-shadow: 0px 1px 2px rgba(60, 64, 67, 0.3), 0px 1px 3px 1px rgba(60, 64, 67, 0.15);\n",
              "    fill: #174EA6;\n",
              "  }\n",
              "\n",
              "  [theme=dark] .colab-df-quickchart {\n",
              "    background-color: #3B4455;\n",
              "    fill: #D2E3FC;\n",
              "  }\n",
              "\n",
              "  [theme=dark] .colab-df-quickchart:hover {\n",
              "    background-color: #434B5C;\n",
              "    box-shadow: 0px 1px 3px 1px rgba(0, 0, 0, 0.15);\n",
              "    filter: drop-shadow(0px 1px 2px rgba(0, 0, 0, 0.3));\n",
              "    fill: #FFFFFF;\n",
              "  }\n",
              "</style>\n",
              "\n",
              "  <script>\n",
              "    async function quickchart(key) {\n",
              "      const charts = await google.colab.kernel.invokeFunction(\n",
              "          'suggestCharts', [key], {});\n",
              "    }\n",
              "    (() => {\n",
              "      let quickchartButtonEl =\n",
              "        document.querySelector('#df-0fd2520b-17cd-4e2a-829a-4d9ee80d8760 button');\n",
              "      quickchartButtonEl.style.display =\n",
              "        google.colab.kernel.accessAllowed ? 'block' : 'none';\n",
              "    })();\n",
              "  </script>\n",
              "</div>\n",
              "    </div>\n",
              "  </div>\n"
            ]
          },
          "metadata": {},
          "execution_count": 716
        }
      ]
    },
    {
      "cell_type": "markdown",
      "source": [
        "Finally lets save our dataset for further exploration in the next section"
      ],
      "metadata": {
        "id": "FB2MbirSg5Qf"
      }
    },
    {
      "cell_type": "code",
      "source": [
        "final_dataset.classification.size"
      ],
      "metadata": {
        "colab": {
          "base_uri": "https://localhost:8080/"
        },
        "id": "G7M2QRe81X6j",
        "outputId": "9c8d7d41-f0ef-4fc7-cdc8-ffeeca96a0cd"
      },
      "execution_count": 717,
      "outputs": [
        {
          "output_type": "execute_result",
          "data": {
            "text/plain": [
              "104813"
            ]
          },
          "metadata": {},
          "execution_count": 717
        }
      ]
    },
    {
      "cell_type": "code",
      "source": [
        "final_dataset.sequence.size"
      ],
      "metadata": {
        "colab": {
          "base_uri": "https://localhost:8080/"
        },
        "id": "J8ATcxmwv_B8",
        "outputId": "30189786-2ad3-4ccd-aa0e-064e6f2eb447"
      },
      "execution_count": 718,
      "outputs": [
        {
          "output_type": "execute_result",
          "data": {
            "text/plain": [
              "104813"
            ]
          },
          "metadata": {},
          "execution_count": 718
        }
      ]
    },
    {
      "cell_type": "code",
      "source": [
        "final_dataset.size"
      ],
      "metadata": {
        "colab": {
          "base_uri": "https://localhost:8080/"
        },
        "id": "RYigUwWd6fFE",
        "outputId": "cccd7f52-9675-44c4-fa56-00b9f3d334ca"
      },
      "execution_count": 719,
      "outputs": [
        {
          "output_type": "execute_result",
          "data": {
            "text/plain": [
              "209626"
            ]
          },
          "metadata": {},
          "execution_count": 719
        }
      ]
    },
    {
      "cell_type": "code",
      "source": [
        "final_dataset.to_csv(\"/content/drive/MyDrive/sps_dataset/pdb.csv\")"
      ],
      "metadata": {
        "id": "MzkmDmETgiEk"
      },
      "execution_count": 720,
      "outputs": []
    },
    {
      "cell_type": "markdown",
      "source": [
        "## 1.1 Exploratory Data Analysis\n",
        "\n",
        "In this section we will do the following:\n",
        "\n",
        "\n",
        "\n",
        "1. Load our dataset\n",
        "2. Understand classification labels\n",
        "3. Understand sequences"
      ],
      "metadata": {
        "id": "0izZEjpjhYEx"
      }
    },
    {
      "cell_type": "markdown",
      "source": [
        "### 1.1.1 Load our dataset"
      ],
      "metadata": {
        "id": "fh7pZtsMhs8s"
      }
    },
    {
      "cell_type": "code",
      "source": [
        "from pandas import read_csv\n",
        "\n",
        "df = read_csv('/content/drive/MyDrive/sps_dataset/pdb.csv')"
      ],
      "metadata": {
        "id": "yNz8nSWInXmr"
      },
      "execution_count": 721,
      "outputs": []
    },
    {
      "cell_type": "code",
      "source": [
        "df.size"
      ],
      "metadata": {
        "colab": {
          "base_uri": "https://localhost:8080/"
        },
        "id": "-fahVYqy1czL",
        "outputId": "f11208fb-9245-4a60-aa2d-c8a2671b931f"
      },
      "execution_count": 722,
      "outputs": [
        {
          "output_type": "execute_result",
          "data": {
            "text/plain": [
              "314439"
            ]
          },
          "metadata": {},
          "execution_count": 722
        }
      ]
    },
    {
      "cell_type": "code",
      "source": [
        "df = df.drop('Unnamed: 0', axis=1).reset_index()"
      ],
      "metadata": {
        "id": "DH_ExU0S5jMf"
      },
      "execution_count": 723,
      "outputs": []
    },
    {
      "cell_type": "code",
      "source": [
        "df"
      ],
      "metadata": {
        "colab": {
          "base_uri": "https://localhost:8080/",
          "height": 583
        },
        "id": "5_q0BmAa7J83",
        "outputId": "09b683c9-4a58-441b-c987-0d7a50228c43"
      },
      "execution_count": 724,
      "outputs": [
        {
          "output_type": "execute_result",
          "data": {
            "text/plain": [
              "         index  ...                                           sequence\n",
              "0            0  ...                                         CCGGCGCCGG\n",
              "1            1  ...                                       CGCGAATTCGCG\n",
              "2            2  ...  MVLSEGEWQLVLHVWAKVEADVAGHGQDILIRLFKSHPETLEKFDR...\n",
              "3            3  ...                                       CGCAAATTTGCG\n",
              "4            4  ...  MNIFEMLRIDEGLRLKIYKDTEGYYTIGIGHLLTKSPSLNAAAKSE...\n",
              "...        ...  ...                                                ...\n",
              "104808  104808  ...  ANQASVVANQLIPINTALNLVMMRSEVVTPVGIPAEDIPRLVSMQV...\n",
              "104809  104809  ...  VHHPPSYVAHLASDFGVRVFQQVAQASKDRNVVFSPYGVASVLAML...\n",
              "104810  104810  ...                  MAPEEIIMDRPFLFVVRHNPTGTVLFMGQVMEP\n",
              "104811  104811  ...  LEVLLGSGDGSLVFVPSEFSVPSGEKIVFKNNAGFPHNVVFDEDEI...\n",
              "104812  104812  ...  MDQSSRYVNLALKEEDLIAGGEHVLCAYIMKPKAGYGYVATAAHFA...\n",
              "\n",
              "[104813 rows x 3 columns]"
            ],
            "text/html": [
              "\n",
              "  <div id=\"df-1cbb2249-3a8d-4311-832b-7da5e4eb099b\" class=\"colab-df-container\">\n",
              "    <div>\n",
              "<style scoped>\n",
              "    .dataframe tbody tr th:only-of-type {\n",
              "        vertical-align: middle;\n",
              "    }\n",
              "\n",
              "    .dataframe tbody tr th {\n",
              "        vertical-align: top;\n",
              "    }\n",
              "\n",
              "    .dataframe thead th {\n",
              "        text-align: right;\n",
              "    }\n",
              "</style>\n",
              "<table border=\"1\" class=\"dataframe\">\n",
              "  <thead>\n",
              "    <tr style=\"text-align: right;\">\n",
              "      <th></th>\n",
              "      <th>index</th>\n",
              "      <th>classification</th>\n",
              "      <th>sequence</th>\n",
              "    </tr>\n",
              "  </thead>\n",
              "  <tbody>\n",
              "    <tr>\n",
              "      <th>0</th>\n",
              "      <td>0</td>\n",
              "      <td>DNA-RNA HYBRID</td>\n",
              "      <td>CCGGCGCCGG</td>\n",
              "    </tr>\n",
              "    <tr>\n",
              "      <th>1</th>\n",
              "      <td>1</td>\n",
              "      <td>DNA</td>\n",
              "      <td>CGCGAATTCGCG</td>\n",
              "    </tr>\n",
              "    <tr>\n",
              "      <th>2</th>\n",
              "      <td>2</td>\n",
              "      <td>OXYGEN TRANSPORT</td>\n",
              "      <td>MVLSEGEWQLVLHVWAKVEADVAGHGQDILIRLFKSHPETLEKFDR...</td>\n",
              "    </tr>\n",
              "    <tr>\n",
              "      <th>3</th>\n",
              "      <td>3</td>\n",
              "      <td>DNA</td>\n",
              "      <td>CGCAAATTTGCG</td>\n",
              "    </tr>\n",
              "    <tr>\n",
              "      <th>4</th>\n",
              "      <td>4</td>\n",
              "      <td>HYDROLASE(O-GLYCOSYL)</td>\n",
              "      <td>MNIFEMLRIDEGLRLKIYKDTEGYYTIGIGHLLTKSPSLNAAAKSE...</td>\n",
              "    </tr>\n",
              "    <tr>\n",
              "      <th>...</th>\n",
              "      <td>...</td>\n",
              "      <td>...</td>\n",
              "      <td>...</td>\n",
              "    </tr>\n",
              "    <tr>\n",
              "      <th>104808</th>\n",
              "      <td>104808</td>\n",
              "      <td>ANTIFREEZE PROTEIN</td>\n",
              "      <td>ANQASVVANQLIPINTALNLVMMRSEVVTPVGIPAEDIPRLVSMQV...</td>\n",
              "    </tr>\n",
              "    <tr>\n",
              "      <th>104809</th>\n",
              "      <td>104809</td>\n",
              "      <td>HYDROLASE INHIBITOR</td>\n",
              "      <td>VHHPPSYVAHLASDFGVRVFQQVAQASKDRNVVFSPYGVASVLAML...</td>\n",
              "    </tr>\n",
              "    <tr>\n",
              "      <th>104810</th>\n",
              "      <td>104810</td>\n",
              "      <td>HYDROLASE INHIBITOR</td>\n",
              "      <td>MAPEEIIMDRPFLFVVRHNPTGTVLFMGQVMEP</td>\n",
              "    </tr>\n",
              "    <tr>\n",
              "      <th>104811</th>\n",
              "      <td>104811</td>\n",
              "      <td>ELECTRON TRANSPORT</td>\n",
              "      <td>LEVLLGSGDGSLVFVPSEFSVPSGEKIVFKNNAGFPHNVVFDEDEI...</td>\n",
              "    </tr>\n",
              "    <tr>\n",
              "      <th>104812</th>\n",
              "      <td>104812</td>\n",
              "      <td>LYASE(CARBON-CARBON)</td>\n",
              "      <td>MDQSSRYVNLALKEEDLIAGGEHVLCAYIMKPKAGYGYVATAAHFA...</td>\n",
              "    </tr>\n",
              "  </tbody>\n",
              "</table>\n",
              "<p>104813 rows × 3 columns</p>\n",
              "</div>\n",
              "    <div class=\"colab-df-buttons\">\n",
              "\n",
              "  <div class=\"colab-df-container\">\n",
              "    <button class=\"colab-df-convert\" onclick=\"convertToInteractive('df-1cbb2249-3a8d-4311-832b-7da5e4eb099b')\"\n",
              "            title=\"Convert this dataframe to an interactive table.\"\n",
              "            style=\"display:none;\">\n",
              "\n",
              "  <svg xmlns=\"http://www.w3.org/2000/svg\" height=\"24px\" viewBox=\"0 -960 960 960\">\n",
              "    <path d=\"M120-120v-720h720v720H120Zm60-500h600v-160H180v160Zm220 220h160v-160H400v160Zm0 220h160v-160H400v160ZM180-400h160v-160H180v160Zm440 0h160v-160H620v160ZM180-180h160v-160H180v160Zm440 0h160v-160H620v160Z\"/>\n",
              "  </svg>\n",
              "    </button>\n",
              "\n",
              "  <style>\n",
              "    .colab-df-container {\n",
              "      display:flex;\n",
              "      gap: 12px;\n",
              "    }\n",
              "\n",
              "    .colab-df-convert {\n",
              "      background-color: #E8F0FE;\n",
              "      border: none;\n",
              "      border-radius: 50%;\n",
              "      cursor: pointer;\n",
              "      display: none;\n",
              "      fill: #1967D2;\n",
              "      height: 32px;\n",
              "      padding: 0 0 0 0;\n",
              "      width: 32px;\n",
              "    }\n",
              "\n",
              "    .colab-df-convert:hover {\n",
              "      background-color: #E2EBFA;\n",
              "      box-shadow: 0px 1px 2px rgba(60, 64, 67, 0.3), 0px 1px 3px 1px rgba(60, 64, 67, 0.15);\n",
              "      fill: #174EA6;\n",
              "    }\n",
              "\n",
              "    .colab-df-buttons div {\n",
              "      margin-bottom: 4px;\n",
              "    }\n",
              "\n",
              "    [theme=dark] .colab-df-convert {\n",
              "      background-color: #3B4455;\n",
              "      fill: #D2E3FC;\n",
              "    }\n",
              "\n",
              "    [theme=dark] .colab-df-convert:hover {\n",
              "      background-color: #434B5C;\n",
              "      box-shadow: 0px 1px 3px 1px rgba(0, 0, 0, 0.15);\n",
              "      filter: drop-shadow(0px 1px 2px rgba(0, 0, 0, 0.3));\n",
              "      fill: #FFFFFF;\n",
              "    }\n",
              "  </style>\n",
              "\n",
              "    <script>\n",
              "      const buttonEl =\n",
              "        document.querySelector('#df-1cbb2249-3a8d-4311-832b-7da5e4eb099b button.colab-df-convert');\n",
              "      buttonEl.style.display =\n",
              "        google.colab.kernel.accessAllowed ? 'block' : 'none';\n",
              "\n",
              "      async function convertToInteractive(key) {\n",
              "        const element = document.querySelector('#df-1cbb2249-3a8d-4311-832b-7da5e4eb099b');\n",
              "        const dataTable =\n",
              "          await google.colab.kernel.invokeFunction('convertToInteractive',\n",
              "                                                    [key], {});\n",
              "        if (!dataTable) return;\n",
              "\n",
              "        const docLinkHtml = 'Like what you see? Visit the ' +\n",
              "          '<a target=\"_blank\" href=https://colab.research.google.com/notebooks/data_table.ipynb>data table notebook</a>'\n",
              "          + ' to learn more about interactive tables.';\n",
              "        element.innerHTML = '';\n",
              "        dataTable['output_type'] = 'display_data';\n",
              "        await google.colab.output.renderOutput(dataTable, element);\n",
              "        const docLink = document.createElement('div');\n",
              "        docLink.innerHTML = docLinkHtml;\n",
              "        element.appendChild(docLink);\n",
              "      }\n",
              "    </script>\n",
              "  </div>\n",
              "\n",
              "\n",
              "<div id=\"df-73e3490d-8311-4167-8629-dfa6c1c4409a\">\n",
              "  <button class=\"colab-df-quickchart\" onclick=\"quickchart('df-73e3490d-8311-4167-8629-dfa6c1c4409a')\"\n",
              "            title=\"Suggest charts.\"\n",
              "            style=\"display:none;\">\n",
              "\n",
              "<svg xmlns=\"http://www.w3.org/2000/svg\" height=\"24px\"viewBox=\"0 0 24 24\"\n",
              "     width=\"24px\">\n",
              "    <g>\n",
              "        <path d=\"M19 3H5c-1.1 0-2 .9-2 2v14c0 1.1.9 2 2 2h14c1.1 0 2-.9 2-2V5c0-1.1-.9-2-2-2zM9 17H7v-7h2v7zm4 0h-2V7h2v10zm4 0h-2v-4h2v4z\"/>\n",
              "    </g>\n",
              "</svg>\n",
              "  </button>\n",
              "\n",
              "<style>\n",
              "  .colab-df-quickchart {\n",
              "    background-color: #E8F0FE;\n",
              "    border: none;\n",
              "    border-radius: 50%;\n",
              "    cursor: pointer;\n",
              "    display: none;\n",
              "    fill: #1967D2;\n",
              "    height: 32px;\n",
              "    padding: 0 0 0 0;\n",
              "    width: 32px;\n",
              "  }\n",
              "\n",
              "  .colab-df-quickchart:hover {\n",
              "    background-color: #E2EBFA;\n",
              "    box-shadow: 0px 1px 2px rgba(60, 64, 67, 0.3), 0px 1px 3px 1px rgba(60, 64, 67, 0.15);\n",
              "    fill: #174EA6;\n",
              "  }\n",
              "\n",
              "  [theme=dark] .colab-df-quickchart {\n",
              "    background-color: #3B4455;\n",
              "    fill: #D2E3FC;\n",
              "  }\n",
              "\n",
              "  [theme=dark] .colab-df-quickchart:hover {\n",
              "    background-color: #434B5C;\n",
              "    box-shadow: 0px 1px 3px 1px rgba(0, 0, 0, 0.15);\n",
              "    filter: drop-shadow(0px 1px 2px rgba(0, 0, 0, 0.3));\n",
              "    fill: #FFFFFF;\n",
              "  }\n",
              "</style>\n",
              "\n",
              "  <script>\n",
              "    async function quickchart(key) {\n",
              "      const charts = await google.colab.kernel.invokeFunction(\n",
              "          'suggestCharts', [key], {});\n",
              "    }\n",
              "    (() => {\n",
              "      let quickchartButtonEl =\n",
              "        document.querySelector('#df-73e3490d-8311-4167-8629-dfa6c1c4409a button');\n",
              "      quickchartButtonEl.style.display =\n",
              "        google.colab.kernel.accessAllowed ? 'block' : 'none';\n",
              "    })();\n",
              "  </script>\n",
              "</div>\n",
              "    </div>\n",
              "  </div>\n"
            ]
          },
          "metadata": {},
          "execution_count": 724
        }
      ]
    },
    {
      "cell_type": "markdown",
      "source": [
        "### 1.1.2 Lets understand the distribution of the classification labels."
      ],
      "metadata": {
        "id": "ZhbPe1PU35gY"
      }
    },
    {
      "cell_type": "code",
      "source": [
        "from pandas import DataFrame\n",
        "from matplotlib import pyplot as plt\n",
        "import seaborn as sns\n",
        "\n",
        "counts = df.classification.value_counts()\n",
        "\n",
        "plt.figure()\n",
        "sns.distplot(counts, hist = False, color = 'purple')\n",
        "plt.title('Count Distribution for Family Types')\n",
        "plt.ylabel('% of records')\n",
        "plt.show()"
      ],
      "metadata": {
        "colab": {
          "base_uri": "https://localhost:8080/",
          "height": 663
        },
        "id": "voAhYAmowJ9c",
        "outputId": "21388a9f-e5c0-4d59-e350-468cfb2ad70f"
      },
      "execution_count": 725,
      "outputs": [
        {
          "output_type": "stream",
          "name": "stderr",
          "text": [
            "<ipython-input-725-7e900918f305>:8: UserWarning: \n",
            "\n",
            "`distplot` is a deprecated function and will be removed in seaborn v0.14.0.\n",
            "\n",
            "Please adapt your code to use either `displot` (a figure-level function with\n",
            "similar flexibility) or `kdeplot` (an axes-level function for kernel density plots).\n",
            "\n",
            "For a guide to updating your code to use the new functions, please see\n",
            "https://gist.github.com/mwaskom/de44147ed2974457ad6372750bbe5751\n",
            "\n",
            "  sns.distplot(counts, hist = False, color = 'purple')\n"
          ]
        },
        {
          "output_type": "display_data",
          "data": {
            "text/plain": [
              "<Figure size 640x480 with 1 Axes>"
            ],
            "image/png": "[encoded data removed]"
          },
          "metadata": {}
        }
      ]
    },
    {
      "cell_type": "code",
      "source": [
        "DataFrame(counts)"
      ],
      "metadata": {
        "colab": {
          "base_uri": "https://localhost:8080/",
          "height": 424
        },
        "id": "B1xQRhiL8jkm",
        "outputId": "b3076615-bae9-40cc-ea4d-c7868d1a752d"
      },
      "execution_count": 726,
      "outputs": [
        {
          "output_type": "execute_result",
          "data": {
            "text/plain": [
              "                                      classification\n",
              "HYDROLASE                                      12214\n",
              "TRANSFERASE                                     8980\n",
              "OXIDOREDUCTASE                                  7034\n",
              "IMMUNE SYSTEM                                   5215\n",
              "RIBOSOME                                        4226\n",
              "...                                              ...\n",
              "LIGASE(AMIDE SYNTHETASE)                           1\n",
              "RECOMBINATION, DNA                                 1\n",
              "CELL ADHESION, SUGAR BINDING PROTEIN               1\n",
              "Chaperone, hydrolase                               1\n",
              "MATRIX METALLOPROTEASE                             1\n",
              "\n",
              "[4433 rows x 1 columns]"
            ],
            "text/html": [
              "\n",
              "  <div id=\"df-ff74c14d-ee8e-4b68-9836-a5a6385cf033\" class=\"colab-df-container\">\n",
              "    <div>\n",
              "<style scoped>\n",
              "    .dataframe tbody tr th:only-of-type {\n",
              "        vertical-align: middle;\n",
              "    }\n",
              "\n",
              "    .dataframe tbody tr th {\n",
              "        vertical-align: top;\n",
              "    }\n",
              "\n",
              "    .dataframe thead th {\n",
              "        text-align: right;\n",
              "    }\n",
              "</style>\n",
              "<table border=\"1\" class=\"dataframe\">\n",
              "  <thead>\n",
              "    <tr style=\"text-align: right;\">\n",
              "      <th></th>\n",
              "      <th>classification</th>\n",
              "    </tr>\n",
              "  </thead>\n",
              "  <tbody>\n",
              "    <tr>\n",
              "      <th>HYDROLASE</th>\n",
              "      <td>12214</td>\n",
              "    </tr>\n",
              "    <tr>\n",
              "      <th>TRANSFERASE</th>\n",
              "      <td>8980</td>\n",
              "    </tr>\n",
              "    <tr>\n",
              "      <th>OXIDOREDUCTASE</th>\n",
              "      <td>7034</td>\n",
              "    </tr>\n",
              "    <tr>\n",
              "      <th>IMMUNE SYSTEM</th>\n",
              "      <td>5215</td>\n",
              "    </tr>\n",
              "    <tr>\n",
              "      <th>RIBOSOME</th>\n",
              "      <td>4226</td>\n",
              "    </tr>\n",
              "    <tr>\n",
              "      <th>...</th>\n",
              "      <td>...</td>\n",
              "    </tr>\n",
              "    <tr>\n",
              "      <th>LIGASE(AMIDE SYNTHETASE)</th>\n",
              "      <td>1</td>\n",
              "    </tr>\n",
              "    <tr>\n",
              "      <th>RECOMBINATION, DNA</th>\n",
              "      <td>1</td>\n",
              "    </tr>\n",
              "    <tr>\n",
              "      <th>CELL ADHESION, SUGAR BINDING PROTEIN</th>\n",
              "      <td>1</td>\n",
              "    </tr>\n",
              "    <tr>\n",
              "      <th>Chaperone, hydrolase</th>\n",
              "      <td>1</td>\n",
              "    </tr>\n",
              "    <tr>\n",
              "      <th>MATRIX METALLOPROTEASE</th>\n",
              "      <td>1</td>\n",
              "    </tr>\n",
              "  </tbody>\n",
              "</table>\n",
              "<p>4433 rows × 1 columns</p>\n",
              "</div>\n",
              "    <div class=\"colab-df-buttons\">\n",
              "\n",
              "  <div class=\"colab-df-container\">\n",
              "    <button class=\"colab-df-convert\" onclick=\"convertToInteractive('df-ff74c14d-ee8e-4b68-9836-a5a6385cf033')\"\n",
              "            title=\"Convert this dataframe to an interactive table.\"\n",
              "            style=\"display:none;\">\n",
              "\n",
              "  <svg xmlns=\"http://www.w3.org/2000/svg\" height=\"24px\" viewBox=\"0 -960 960 960\">\n",
              "    <path d=\"M120-120v-720h720v720H120Zm60-500h600v-160H180v160Zm220 220h160v-160H400v160Zm0 220h160v-160H400v160ZM180-400h160v-160H180v160Zm440 0h160v-160H620v160ZM180-180h160v-160H180v160Zm440 0h160v-160H620v160Z\"/>\n",
              "  </svg>\n",
              "    </button>\n",
              "\n",
              "  <style>\n",
              "    .colab-df-container {\n",
              "      display:flex;\n",
              "      gap: 12px;\n",
              "    }\n",
              "\n",
              "    .colab-df-convert {\n",
              "      background-color: #E8F0FE;\n",
              "      border: none;\n",
              "      border-radius: 50%;\n",
              "      cursor: pointer;\n",
              "      display: none;\n",
              "      fill: #1967D2;\n",
              "      height: 32px;\n",
              "      padding: 0 0 0 0;\n",
              "      width: 32px;\n",
              "    }\n",
              "\n",
              "    .colab-df-convert:hover {\n",
              "      background-color: #E2EBFA;\n",
              "      box-shadow: 0px 1px 2px rgba(60, 64, 67, 0.3), 0px 1px 3px 1px rgba(60, 64, 67, 0.15);\n",
              "      fill: #174EA6;\n",
              "    }\n",
              "\n",
              "    .colab-df-buttons div {\n",
              "      margin-bottom: 4px;\n",
              "    }\n",
              "\n",
              "    [theme=dark] .colab-df-convert {\n",
              "      background-color: #3B4455;\n",
              "      fill: #D2E3FC;\n",
              "    }\n",
              "\n",
              "    [theme=dark] .colab-df-convert:hover {\n",
              "      background-color: #434B5C;\n",
              "      box-shadow: 0px 1px 3px 1px rgba(0, 0, 0, 0.15);\n",
              "      filter: drop-shadow(0px 1px 2px rgba(0, 0, 0, 0.3));\n",
              "      fill: #FFFFFF;\n",
              "    }\n",
              "  </style>\n",
              "\n",
              "    <script>\n",
              "      const buttonEl =\n",
              "        document.querySelector('#df-ff74c14d-ee8e-4b68-9836-a5a6385cf033 button.colab-df-convert');\n",
              "      buttonEl.style.display =\n",
              "        google.colab.kernel.accessAllowed ? 'block' : 'none';\n",
              "\n",
              "      async function convertToInteractive(key) {\n",
              "        const element = document.querySelector('#df-ff74c14d-ee8e-4b68-9836-a5a6385cf033');\n",
              "        const dataTable =\n",
              "          await google.colab.kernel.invokeFunction('convertToInteractive',\n",
              "                                                    [key], {});\n",
              "        if (!dataTable) return;\n",
              "\n",
              "        const docLinkHtml = 'Like what you see? Visit the ' +\n",
              "          '<a target=\"_blank\" href=https://colab.research.google.com/notebooks/data_table.ipynb>data table notebook</a>'\n",
              "          + ' to learn more about interactive tables.';\n",
              "        element.innerHTML = '';\n",
              "        dataTable['output_type'] = 'display_data';\n",
              "        await google.colab.output.renderOutput(dataTable, element);\n",
              "        const docLink = document.createElement('div');\n",
              "        docLink.innerHTML = docLinkHtml;\n",
              "        element.appendChild(docLink);\n",
              "      }\n",
              "    </script>\n",
              "  </div>\n",
              "\n",
              "\n",
              "<div id=\"df-2e922b4c-ed00-4739-8d4e-1dafaa41a9b3\">\n",
              "  <button class=\"colab-df-quickchart\" onclick=\"quickchart('df-2e922b4c-ed00-4739-8d4e-1dafaa41a9b3')\"\n",
              "            title=\"Suggest charts.\"\n",
              "            style=\"display:none;\">\n",
              "\n",
              "<svg xmlns=\"http://www.w3.org/2000/svg\" height=\"24px\"viewBox=\"0 0 24 24\"\n",
              "     width=\"24px\">\n",
              "    <g>\n",
              "        <path d=\"M19 3H5c-1.1 0-2 .9-2 2v14c0 1.1.9 2 2 2h14c1.1 0 2-.9 2-2V5c0-1.1-.9-2-2-2zM9 17H7v-7h2v7zm4 0h-2V7h2v10zm4 0h-2v-4h2v4z\"/>\n",
              "    </g>\n",
              "</svg>\n",
              "  </button>\n",
              "\n",
              "<style>\n",
              "  .colab-df-quickchart {\n",
              "    background-color: #E8F0FE;\n",
              "    border: none;\n",
              "    border-radius: 50%;\n",
              "    cursor: pointer;\n",
              "    display: none;\n",
              "    fill: #1967D2;\n",
              "    height: 32px;\n",
              "    padding: 0 0 0 0;\n",
              "    width: 32px;\n",
              "  }\n",
              "\n",
              "  .colab-df-quickchart:hover {\n",
              "    background-color: #E2EBFA;\n",
              "    box-shadow: 0px 1px 2px rgba(60, 64, 67, 0.3), 0px 1px 3px 1px rgba(60, 64, 67, 0.15);\n",
              "    fill: #174EA6;\n",
              "  }\n",
              "\n",
              "  [theme=dark] .colab-df-quickchart {\n",
              "    background-color: #3B4455;\n",
              "    fill: #D2E3FC;\n",
              "  }\n",
              "\n",
              "  [theme=dark] .colab-df-quickchart:hover {\n",
              "    background-color: #434B5C;\n",
              "    box-shadow: 0px 1px 3px 1px rgba(0, 0, 0, 0.15);\n",
              "    filter: drop-shadow(0px 1px 2px rgba(0, 0, 0, 0.3));\n",
              "    fill: #FFFFFF;\n",
              "  }\n",
              "</style>\n",
              "\n",
              "  <script>\n",
              "    async function quickchart(key) {\n",
              "      const charts = await google.colab.kernel.invokeFunction(\n",
              "          'suggestCharts', [key], {});\n",
              "    }\n",
              "    (() => {\n",
              "      let quickchartButtonEl =\n",
              "        document.querySelector('#df-2e922b4c-ed00-4739-8d4e-1dafaa41a9b3 button');\n",
              "      quickchartButtonEl.style.display =\n",
              "        google.colab.kernel.accessAllowed ? 'block' : 'none';\n",
              "    })();\n",
              "  </script>\n",
              "</div>\n",
              "    </div>\n",
              "  </div>\n"
            ]
          },
          "metadata": {},
          "execution_count": 726
        }
      ]
    },
    {
      "cell_type": "markdown",
      "source": [
        "💡 This looks heavily skewed which tells us < 1000 classes have enough data to be relevant to solving this problem."
      ],
      "metadata": {
        "id": "yUWtv24g4qfl"
      }
    },
    {
      "cell_type": "markdown",
      "source": [
        "### 1.1.3 Lets analyze the sequence lengths."
      ],
      "metadata": {
        "id": "vGM612lu-Xng"
      }
    },
    {
      "cell_type": "code",
      "source": [
        "from pandas import DataFrame\n",
        "from matplotlib import pyplot as plt\n",
        "import seaborn as sns\n",
        "\n",
        "seq_lengths = df.sequence.str.len()\n",
        "\n",
        "print(seq_lengths.describe())\n",
        "\n",
        "\n",
        "plt.figure()\n",
        "sns.distplot(seq_lengths, hist = False, color = 'purple')\n",
        "plt.title('Distribution for Sequence Lengths')\n",
        "plt.ylabel('% of records')\n",
        "plt.show()"
      ],
      "metadata": {
        "colab": {
          "base_uri": "https://localhost:8080/",
          "height": 819
        },
        "id": "lY0vDmPk-L5l",
        "outputId": "c7f7fc72-1fd1-4698-8dbd-f273553dc992"
      },
      "execution_count": 727,
      "outputs": [
        {
          "output_type": "stream",
          "name": "stdout",
          "text": [
            "count    104812.000000\n",
            "mean        237.933195\n",
            "std         234.641357\n",
            "min           1.000000\n",
            "25%         100.000000\n",
            "50%         198.000000\n",
            "75%         320.000000\n",
            "max        5070.000000\n",
            "Name: sequence, dtype: float64\n"
          ]
        },
        {
          "output_type": "stream",
          "name": "stderr",
          "text": [
            "<ipython-input-727-ab7005bbb49a>:11: UserWarning: \n",
            "\n",
            "`distplot` is a deprecated function and will be removed in seaborn v0.14.0.\n",
            "\n",
            "Please adapt your code to use either `displot` (a figure-level function with\n",
            "similar flexibility) or `kdeplot` (an axes-level function for kernel density plots).\n",
            "\n",
            "For a guide to updating your code to use the new functions, please see\n",
            "https://gist.github.com/mwaskom/de44147ed2974457ad6372750bbe5751\n",
            "\n",
            "  sns.distplot(seq_lengths, hist = False, color = 'purple')\n"
          ]
        },
        {
          "output_type": "display_data",
          "data": {
            "text/plain": [
              "<Figure size 640x480 with 1 Axes>"
            ],
            "image/png": "[encoded data removed]"
          },
          "metadata": {}
        }
      ]
    },
    {
      "cell_type": "markdown",
      "source": [
        "💡 Most sequences are < 1000"
      ],
      "metadata": {
        "id": "-TWa2Lnu_mxW"
      }
    },
    {
      "cell_type": "markdown",
      "source": [
        "### 1.1.4 Pruning the dataset\n",
        "\n",
        "From the previous subsections we inferred the following:\n",
        "\n",
        "\n",
        "\n",
        "1.   This dataset is heavily imbalanced in terms of classes (<1000 are relevant)\n",
        "2.   This dataset is heavily imbalanced in terms of sequence lengths (lengths of <1000 are viable)\n",
        "\n"
      ],
      "metadata": {
        "id": "OQVoavyvA4OS"
      }
    },
    {
      "cell_type": "markdown",
      "source": [
        "\n",
        "Since ~0% of both cases are greater than 1000 discarding these values should not affect our study.\n"
      ],
      "metadata": {
        "id": "2OWc4IMyBcew"
      }
    },
    {
      "cell_type": "code",
      "source": [
        "classes = df.classification.value_counts().head(1000).index\n",
        "\n",
        "df = df[df.apply(lambda x: x.classification in classes, axis=1)]"
      ],
      "metadata": {
        "id": "A_Ipws9GCdfK"
      },
      "execution_count": 728,
      "outputs": []
    },
    {
      "cell_type": "code",
      "source": [
        "df.sequence.size"
      ],
      "metadata": {
        "colab": {
          "base_uri": "https://localhost:8080/"
        },
        "id": "Kax3FiG6DqIv",
        "outputId": "fd2ce9f1-fb1d-49d9-9699-f68c46916965"
      },
      "execution_count": 729,
      "outputs": [
        {
          "output_type": "execute_result",
          "data": {
            "text/plain": [
              "99025"
            ]
          },
          "metadata": {},
          "execution_count": 729
        }
      ]
    }
  ]
}